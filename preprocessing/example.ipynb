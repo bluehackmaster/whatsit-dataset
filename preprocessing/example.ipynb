{
 "cells": [
  {
   "cell_type": "code",
   "execution_count": 4,
   "metadata": {
    "collapsed": true
   },
   "outputs": [
    {
     "name": "stdout",
     "output_type": "stream",
     "text": [
      "7.0\n"
     ]
    }
   ],
   "source": [
    "import tensorflow as tf\n",
    "\n",
    "node1 = tf.constant(3.0, tf.float32)\n",
    "node2 = tf.constant(4.0, tf.float32)\n",
    "node3 = tf.add(node1, node2)\n",
    "\n",
    "sess = tf.Session()\n",
    "\n",
    "sess.run([node1, node2])\n",
    "print(sess.run(node3))"
   ]
  },
  {
   "cell_type": "code",
   "execution_count": 7,
   "metadata": {},
   "outputs": [
    {
     "name": "stdout",
     "output_type": "stream",
     "text": [
      "7.5\n[  7.5         10.69999981]\n"
     ]
    }
   ],
   "source": [
    "a = tf.placeholder(tf.float32)\n",
    "b = tf.placeholder(tf.float32)\n",
    "\n",
    "adder_node = a + b\n",
    "\n",
    "print(sess.run(adder_node, feed_dict={a: 3, b: 4.5}))\n",
    "print(sess.run(adder_node, feed_dict={a: [3, 4], b: [4.5, 6.7]}))"
   ]
  },
  {
   "cell_type": "code",
   "execution_count": 15,
   "metadata": {},
   "outputs": [],
   "source": [
    "\n",
    "X = tf.placeholder(tf.float32)\n",
    "Y = tf.placeholder(tf.float32)\n",
    "\n",
    "W = tf.Variable(tf.random_normal([1]), name = 'weight')\n",
    "b = tf.Variable(tf.random_normal([1]), name = 'bias')\n",
    "\n",
    "hypothesis = X * W + b\n",
    "\n",
    "cost = tf.reduce_mean(tf.square(hypothesis - Y))\n",
    "\n",
    "optimizer = tf.train.GradientDescentOptimizer(learning_rate=0.01)\n",
    "train = optimizer.minimize(cost)"
   ]
  },
  {
   "cell_type": "code",
   "execution_count": 17,
   "metadata": {},
   "outputs": [
    {
     "name": "stdout",
     "output_type": "stream",
     "text": [
      "(0, 18.507561, array([-0.20472819], dtype=float32), array([ 1.8919915], dtype=float32))\n(20, 0.17529672, array([ 0.72525203], dtype=float32), array([ 2.07585907], dtype=float32))\n(40, 0.15276185, array([ 0.74708956], dtype=float32), array([ 2.01301408], dtype=float32))\n(60, 0.13340807, array([ 0.76367027], dtype=float32), array([ 1.9532249], dtype=float32))\n(80, 0.11650624, array([ 0.77914774], dtype=float32), array([ 1.89734662], dtype=float32))\n(100, 0.10174583, array([ 0.79361153], dtype=float32), array([ 1.8451277], dtype=float32))\n(120, 0.088855311, array([ 0.80712807], dtype=float32), array([ 1.79632878], dtype=float32))\n(140, 0.077598102, array([ 0.81975937], dtype=float32), array([ 1.75072598], dtype=float32))\n(160, 0.067767024, array([ 0.83156341], dtype=float32), array([ 1.7081095], dtype=float32))\n(180, 0.0591814, array([ 0.84259444], dtype=float32), array([ 1.66828382], dtype=float32))\n(200, 0.051683538, array([ 0.85290313], dtype=float32), array([ 1.63106632], dtype=float32))\n(220, 0.045135655, array([ 0.86253661], dtype=float32), array([ 1.59628654], dtype=float32))\n(240, 0.039417319, array([ 0.87153912], dtype=float32), array([ 1.56378448], dtype=float32))\n(260, 0.034423385, array([ 0.87995219], dtype=float32), array([ 1.53341055], dtype=float32))\n(280, 0.030062217, array([ 0.88781428], dtype=float32), array([ 1.5050261], dtype=float32))\n(300, 0.02625354, array([ 0.89516133], dtype=float32), array([ 1.47850072], dtype=float32))\n(320, 0.022927478, array([ 0.90202725], dtype=float32), array([ 1.45371246], dtype=float32))\n(340, 0.020022696, array([ 0.90844363], dtype=float32), array([ 1.43054736], dtype=float32))\n"
     ]
    },
    {
     "name": "stdout",
     "output_type": "stream",
     "text": [
      "(360, 0.017485986, array([ 0.91443974], dtype=float32), array([ 1.40889978], dtype=float32))\n(380, 0.015270618, array([ 0.92004317], dtype=float32), array([ 1.38866937], dtype=float32))\n(400, 0.013335994, array([ 0.92527956], dtype=float32), array([ 1.36976445], dtype=float32))\n(420, 0.011646401, array([ 0.93017304], dtype=float32), array([ 1.35209763], dtype=float32))\n(440, 0.010170891, array([ 0.93474603], dtype=float32), array([ 1.33558738], dtype=float32))\n(460, 0.0088823158, array([ 0.93901956], dtype=float32), array([ 1.3201586], dtype=float32))\n(480, 0.0077569978, array([ 0.94301325], dtype=float32), array([ 1.30574012], dtype=float32))\n(500, 0.0067742169, array([ 0.9467454], dtype=float32), array([ 1.29226601], dtype=float32))\n(520, 0.0059160022, array([ 0.95023304], dtype=float32), array([ 1.27967453], dtype=float32))\n(540, 0.0051664994, array([ 0.95349222], dtype=float32), array([ 1.26790774], dtype=float32))\n(560, 0.0045119543, array([ 0.95653808], dtype=float32), array([ 1.25691128], dtype=float32))\n(580, 0.0039403047, array([ 0.95938444], dtype=float32), array([ 1.24663496], dtype=float32))\n(600, 0.003441094, array([ 0.96204442], dtype=float32), array([ 1.23703158], dtype=float32))\n(620, 0.0030051477, array([ 0.96453011], dtype=float32), array([ 1.2280575], dtype=float32))\n(640, 0.0026244221, array([ 0.96685302], dtype=float32), array([ 1.21967089], dtype=float32))\n(660, 0.0022919253, array([ 0.96902388], dtype=float32), array([ 1.21183348], dtype=float32))\n(680, 0.0020015612, array([ 0.97105253], dtype=float32), array([ 1.2045095], dtype=float32))\n(700, 0.0017479783, array([ 0.97294831], dtype=float32), array([ 1.19766521], dtype=float32))\n(720, 0.0015265062, array([ 0.97472], dtype=float32), array([ 1.1912688], dtype=float32))\n(740, 0.0013331225, array([ 0.97637558], dtype=float32), array([ 1.18529165], dtype=float32))\n(760, 0.0011642193, array([ 0.97792268], dtype=float32), array([ 1.17970598], dtype=float32))\n(780, 0.0010167217, array([ 0.97936857], dtype=float32), array([ 1.1744858], dtype=float32))\n(800, 0.00088791986, array([ 0.98071975], dtype=float32), array([ 1.16960776], dtype=float32))\n"
     ]
    },
    {
     "name": "stdout",
     "output_type": "stream",
     "text": [
      "(820, 0.00077542395, array([ 0.98198241], dtype=float32), array([ 1.1650492], dtype=float32))\n(840, 0.00067718036, array([ 0.98316234], dtype=float32), array([ 1.16078901], dtype=float32))\n(860, 0.00059139112, array([ 0.98426509], dtype=float32), array([ 1.1568079], dtype=float32))\n(880, 0.00051646383, array([ 0.98529559], dtype=float32), array([ 1.1530875], dtype=float32))\n(900, 0.00045103248, array([ 0.98625863], dtype=float32), array([ 1.14961076], dtype=float32))\n(920, 0.00039389031, array([ 0.98715854], dtype=float32), array([ 1.14636183], dtype=float32))\n(940, 0.00034398682, array([ 0.9879995], dtype=float32), array([ 1.14332557], dtype=float32))\n(960, 0.00030040761, array([ 0.98878539], dtype=float32), array([ 1.14048815], dtype=float32))\n(980, 0.00026235046, array([ 0.98951983], dtype=float32), array([ 1.13783658], dtype=float32))\n(1000, 0.00022911471, array([ 0.99020618], dtype=float32), array([ 1.13535869], dtype=float32))\n(1020, 0.00020008779, array([ 0.99084759], dtype=float32), array([ 1.13304305], dtype=float32))\n(1040, 0.00017473572, array([ 0.99144703], dtype=float32), array([ 1.13087881], dtype=float32))\n(1060, 0.00015259678, array([ 0.9920072], dtype=float32), array([ 1.12885654], dtype=float32))\n(1080, 0.00013326602, array([ 0.99253064], dtype=float32), array([ 1.12696671], dtype=float32))\n(1100, 0.00011638184, array([ 0.99301976], dtype=float32), array([ 1.12520075], dtype=float32))\n(1120, 0.00010163682, array([ 0.99347693], dtype=float32), array([ 1.1235503], dtype=float32))\n(1140, 8.8760527e-05, array([ 0.99390411], dtype=float32), array([ 1.12200797], dtype=float32))\n(1160, 7.7518511e-05, array([ 0.99430329], dtype=float32), array([ 1.12056696], dtype=float32))\n(1180, 6.769551e-05, array([ 0.99467629], dtype=float32), array([ 1.1192199], dtype=float32))\n(1200, 5.9120288e-05, array([ 0.99502498], dtype=float32), array([ 1.11796117], dtype=float32))\n(1220, 5.163065e-05, array([ 0.99535084], dtype=float32), array([ 1.11678481], dtype=float32))\n(1240, 4.50882e-05, array([ 0.9956553], dtype=float32), array([ 1.1156857], dtype=float32))\n(1260, 3.9376951e-05, array([ 0.99593985], dtype=float32), array([ 1.11465847], dtype=float32))\n"
     ]
    },
    {
     "name": "stdout",
     "output_type": "stream",
     "text": [
      "(1280, 3.4387725e-05, array([ 0.99620575], dtype=float32), array([ 1.11369848], dtype=float32))\n(1300, 3.0030478e-05, array([ 0.99645424], dtype=float32), array([ 1.11280119], dtype=float32))\n(1320, 2.6224827e-05, array([ 0.99668652], dtype=float32), array([ 1.1119628], dtype=float32))\n(1340, 2.2903219e-05, array([ 0.99690348], dtype=float32), array([ 1.11117947], dtype=float32))\n(1360, 2.0001808e-05, array([ 0.99710619], dtype=float32), array([ 1.11044753], dtype=float32))\n(1380, 1.7468874e-05, array([ 0.99729562], dtype=float32), array([ 1.10976338], dtype=float32))\n(1400, 1.5256039e-05, array([ 0.99747276], dtype=float32), array([ 1.10912395], dtype=float32))\n(1420, 1.3322906e-05, array([ 0.99763829], dtype=float32), array([ 1.10852647], dtype=float32))\n(1440, 1.1635023e-05, array([ 0.99779296], dtype=float32), array([ 1.10796797], dtype=float32))\n(1460, 1.0160966e-05, array([ 0.9979375], dtype=float32), array([ 1.10744619], dtype=float32))\n(1480, 8.8734032e-06, array([ 0.99807256], dtype=float32), array([ 1.10695863], dtype=float32))\n(1500, 7.7496561e-06, array([ 0.99819875], dtype=float32), array([ 1.10650289], dtype=float32))\n(1520, 6.7679525e-06, array([ 0.99831676], dtype=float32), array([ 1.10607696], dtype=float32))\n(1540, 5.9108443e-06, array([ 0.99842697], dtype=float32), array([ 1.10567904], dtype=float32))\n(1560, 5.1612205e-06, array([ 0.99852997], dtype=float32), array([ 1.10530698], dtype=float32))\n(1580, 4.5069783e-06, array([ 0.99862629], dtype=float32), array([ 1.10495925], dtype=float32))\n(1600, 3.9361257e-06, array([ 0.99871629], dtype=float32), array([ 1.1046344], dtype=float32))\n(1620, 3.4376505e-06, array([ 0.99880034], dtype=float32), array([ 1.10433102], dtype=float32))\n(1640, 3.0020969e-06, array([ 0.99887896], dtype=float32), array([ 1.1040473], dtype=float32))\n(1660, 2.6214204e-06, array([ 0.99895239], dtype=float32), array([ 1.10378218], dtype=float32))\n(1680, 2.2894228e-06, array([ 0.99902099], dtype=float32), array([ 1.10353446], dtype=float32))\n"
     ]
    },
    {
     "name": "stdout",
     "output_type": "stream",
     "text": [
      "(1700, 1.9992842e-06, array([ 0.99908513], dtype=float32), array([ 1.10330284], dtype=float32))\n(1720, 1.7458675e-06, array([ 0.99914509], dtype=float32), array([ 1.10308659], dtype=float32))\n(1740, 1.5245577e-06, array([ 0.999201], dtype=float32), array([ 1.10288441], dtype=float32))\n(1760, 1.3316449e-06, array([ 0.99925339], dtype=float32), array([ 1.10269547], dtype=float32))\n(1780, 1.1629425e-06, array([ 0.99930221], dtype=float32), array([ 1.10251904], dtype=float32))\n(1800, 1.0158268e-06, array([ 0.99934793], dtype=float32), array([ 1.10235417], dtype=float32))\n(1820, 8.8678843e-07, array([ 0.9993906], dtype=float32), array([ 1.10219991], dtype=float32))\n(1840, 7.7461482e-07, array([ 0.99943054], dtype=float32), array([ 1.10205579], dtype=float32))\n(1860, 6.7636086e-07, array([ 0.99946779], dtype=float32), array([ 1.10192108], dtype=float32))\n(1880, 5.9080548e-07, array([ 0.99950266], dtype=float32), array([ 1.10179543], dtype=float32))\n(1900, 5.1599659e-07, array([ 0.9995352], dtype=float32), array([ 1.10167778], dtype=float32))\n(1920, 4.5061194e-07, array([ 0.99956566], dtype=float32), array([ 1.10156786], dtype=float32))\n(1940, 3.9347441e-07, array([ 0.99959409], dtype=float32), array([ 1.10146523], dtype=float32))\n(1960, 3.4366408e-07, array([ 0.99962074], dtype=float32), array([ 1.10136938], dtype=float32))\n(1980, 3.0014621e-07, array([ 0.99964547], dtype=float32), array([ 1.10127962], dtype=float32))\n(2000, 2.6212348e-07, array([ 0.99966872], dtype=float32), array([ 1.10119593], dtype=float32))\n"
     ]
    }
   ],
   "source": [
    "sess = tf.Session()\n",
    "sess.run(tf.global_variables_initializer())\n",
    "\n",
    "for step in range(2001):\n",
    "    cost_val, W_val, b_val, _ = \\\n",
    "        sess.run([cost, W, b, train], feed_dict={X: [1,2,3,4,5], Y: [2.1, 3.1, 4.1, 5.1, 6.1]})\n",
    "    if step % 20 == 0:\n",
    "        print(step, cost_val, W_val, b_val)"
   ]
  },
  {
   "cell_type": "code",
   "execution_count": 18,
   "metadata": {},
   "outputs": [
    {
     "name": "stdout",
     "output_type": "stream",
     "text": [
      "[ 6.09953928]\n"
     ]
    }
   ],
   "source": [
    "print(sess.run(hypothesis, feed_dict={X: [5]}))"
   ]
  },
  {
   "cell_type": "code",
   "execution_count": null,
   "metadata": {},
   "outputs": [],
   "source": []
  }
 ],
 "metadata": {
  "kernelspec": {
   "display_name": "Python 2",
   "language": "python",
   "name": "python2"
  },
  "language_info": {
   "codemirror_mode": {
    "name": "ipython",
    "version": 2
   },
   "file_extension": ".py",
   "mimetype": "text/x-python",
   "name": "python",
   "nbconvert_exporter": "python",
   "pygments_lexer": "ipython2",
   "version": "2.7.6"
  }
 },
 "nbformat": 4,
 "nbformat_minor": 0
}
