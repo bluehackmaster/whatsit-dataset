{
 "cells": [
  {
   "cell_type": "code",
   "execution_count": 4,
   "metadata": {},
   "outputs": [
    {
     "name": "stdout",
     "output_type": "stream",
     "text": [
      "                                                      url  \\\n0       http://file.juvis.co.kr/food_diary/2015-06/428...   \n1       http://file.juvis.co.kr/food_diary/2015-06/ea9...   \n2       http://file.juvis.co.kr/food_diary/2015-06/7bd...   \n3       http://file.juvis.co.kr/food_diary/2015-06/936...   \n4       http://file.juvis.co.kr/food_diary/2015-06/226...   \n5       http://file.juvis.co.kr/food_diary/2015-06/573...   \n6       http://file.juvis.co.kr/food_diary/2015-06/f63...   \n7       http://file.juvis.co.kr/food_diary/2015-06/941...   \n8       http://file.juvis.co.kr/food_diary/2015-06/9d3...   \n9       http://file.juvis.co.kr/food_diary/2015-06/ca1...   \n10      http://file.juvis.co.kr/food_diary/2015-06/1ea...   \n11      http://file.juvis.co.kr/food_diary/2015-06/5ac...   \n12      http://file.juvis.co.kr/food_diary/2015-06/df2...   \n13      http://file.juvis.co.kr/food_diary/2015-06/d83...   \n14      http://file.juvis.co.kr/food_diary/2015-06/809...   \n15      http://file.juvis.co.kr/food_diary/2015-06/857...   \n16      http://file.juvis.co.kr/food_diary/2015-06/f8c...   \n17      http://file.juvis.co.kr/food_diary/2015-06/827...   \n18      http://file.juvis.co.kr/food_diary/2015-06/8ca...   \n19      http://file.juvis.co.kr/food_diary/2015-06/ec4...   \n20      http://file.juvis.co.kr/food_diary/2015-06/4b2...   \n21      http://file.juvis.co.kr/food_diary/2015-06/e44...   \n22      http://file.juvis.co.kr/food_diary/2015-06/2c0...   \n23      http://file.juvis.co.kr/food_diary/2015-06/4ed...   \n24      http://file.juvis.co.kr/food_diary/2015-06/8a8...   \n25      http://file.juvis.co.kr/food_diary/2015-06/e37...   \n26      http://file.juvis.co.kr/food_diary/2015-06/621...   \n27      http://file.juvis.co.kr/food_diary/2015-06/bf8...   \n28      http://file.juvis.co.kr/food_diary/2015-06/a2f...   \n29      http://file.juvis.co.kr/food_diary/2015-06/264...   \n...                                                   ...   \n365746  http://file.juvis.co.kr/food_diary/2017-08/eab...   \n365747  http://file.juvis.co.kr/food_diary/2017-08/1b2...   \n365748  http://file.juvis.co.kr/food_diary/2017-08/ec1...   \n365749  http://file.juvis.co.kr/food_diary/2017-08/838...   \n365750  http://file.juvis.co.kr/food_diary/2017-08/190...   \n365751  http://file.juvis.co.kr/food_diary/2017-08/948...   \n365752  http://file.juvis.co.kr/food_diary/2017-08/da6...   \n365753  http://file.juvis.co.kr/food_diary/2017-08/99d...   \n365754  http://file.juvis.co.kr/food_diary/2017-08/7ee...   \n365755  http://file.juvis.co.kr/food_diary/2017-08/718...   \n365756  http://file.juvis.co.kr/food_diary/2017-08/e20...   \n365757  http://file.juvis.co.kr/food_diary/2017-08/951...   \n365758  http://file.juvis.co.kr/food_diary/2017-08/d8f...   \n365759  http://file.juvis.co.kr/food_diary/2017-08/8b3...   \n365760  http://file.juvis.co.kr/food_diary/2017-08/c4b...   \n365761  http://file.juvis.co.kr/food_diary/2017-08/315...   \n365762  http://file.juvis.co.kr/food_diary/2017-08/89d...   \n365763  http://file.juvis.co.kr/food_diary/2017-08/729...   \n365764  http://file.juvis.co.kr/food_diary/2017-08/d85...   \n365765  http://file.juvis.co.kr/food_diary/2017-08/bb7...   \n365766  http://file.juvis.co.kr/food_diary/2017-08/146...   \n365767  http://file.juvis.co.kr/food_diary/2017-08/686...   \n365768  http://file.juvis.co.kr/food_diary/2017-08/be0...   \n365769  http://file.juvis.co.kr/food_diary/2017-08/050...   \n365770  http://file.juvis.co.kr/food_diary/2017-08/0b6...   \n365771  http://file.juvis.co.kr/food_diary/2017-08/d80...   \n365772  http://file.juvis.co.kr/food_diary/2017-08/6d5...   \n365773  http://file.juvis.co.kr/food_diary/2017-08/0fc...   \n365774  http://file.juvis.co.kr/food_diary/2017-08/26a...   \n365775  http://file.juvis.co.kr/food_diary/2017-08/757...   \n\n                                                   labels  \n0       아스파라거스샐러드 1인분, 고구마현미빵 2인분, 단호박현미빵 2인분, 블루베리현미빵...  \n1           겨자잎 1인분, 현미밥 1인분, 느타리버섯 야채볶음 1인분, 멸치고추볶음 1인분,  \n2       현미콩밥 1인분, 상추 1인분, 생깻잎 1인분, 더덕무침 1인분, 우엉조림 1인분,...  \n3       현미밥 1인분, 버섯볶음 1/2인분, 배추김치 1/2인분, 상추쌈 2/3인분, 모듬...  \n4           느타리버섯볶음 1인분, 현미밥 1인분, 양배추찜 1인분, 쭈꾸미청피망볶음 1인분,  \n5       현미콩밥 2/3인분, 상추 2/3인분, 가지나물 1/3인분, 호박나물 1/3인분, ...  \n6       아욱된장주먹밥 1인분, 근대된장주먹밥 1인분, 무말랭이주먹밥 1인분, 쑥갓겉절이주먹...  \n7       계란 후라이 1인분, 파래김 1인분, 오징어채무침 1인분, 상추쌈 1인분, 현미밥 ...  \n8                                                현미밥 1인분,  \n9       가지토마토소스주먹밥 1인분, 근대된장주먹밥 1인분, 부추겉절이주먹밥 1인분, 양배추...  \n10      치커리 1인분, 생깻잎 1인분, 현미밥 1인분, 김치볶음 1인분, 잔멸치볶음 1/3...  \n11                                      상추 1인분, 장어구이 1인분,  \n12      현미밥 1/2인분, 상추쌈 1/3인분, 잔멸치볶음 1/3인분, 돼지고기장조림 1/3인분,  \n13      현미콩밥 1인분, 상추쌈 1인분, 오징어채볶음 3인분, 간장마늘쫑볶음 2인분, 어묵...  \n14      현미콩밥 2/3인분, 생 양배추 1인분, 우엉조림 1인분, 마늘쫑볶음 1인분, 민들...  \n15      현미밥 2/3인분, 생깻잎 1인분, 오이지무침 1인분, 도라지무침 1인분, 고사리나...  \n16      상추 1인분, 취나물볶음 1/3인분, 현미밥 2/3인분, 콩나물무침 1/3인분, 감...  \n17      현미콩밥 1인분, 야채쌈 1인분, 도라지무침 1/3인분, 잔멸치볶음 1/3인분, 계...  \n18      계란말이 1/3인분, 버섯야채볶음 1/3인분, 렌틸콩현미밥 2/3, 해물콩두부햄 1...  \n19      현미콩밥 1/2인분, 상추 1인분, 도라지무침 1/2인분, 새송이버섯볶음 1/2인분...  \n20      현미밥 2/3인분, 시금치무침 1/2인분, 생깻잎 1/2인분, 검은콩조림 1/2, ...  \n21      잔멸치볶음 1인분, 강남콩조림 1인분, 표고버섯볶음 1인분, 야채쌈 1인분, 현미콩...  \n22                   상추 1인분, 현미밥 1인분, 두부구이 1인분, 양배추 무침 1,  \n23                                            현미쌀밥 1/2인분,  \n24      현미콩밥 2/3인분, 생깻잎 2/3인분, 콩나물무침 1/3인분, 파프리카버섯볶음 1...  \n25      현미밥 1/2인분, 상추쌈 1/3인분, 야채쌈 1/2인분, 취나물 1/3인분, 오징...  \n26      잔멸치볶음 1인분, 열무김치 1인분, 시금치나물 1/3인분, 잡괴검은빵 1/2, 상...  \n27      고추피클주먹밥 1인분, 느타리버섯주먹밥 1인분, 마간장주먹밥 1인분, 무말랭이주먹밥...  \n28      현미밥 2/3인분, 오징어포고추조림 1인분, 깍두기 1인분, 김치볶음 1인분, 황다...  \n29      방풍나물매콤무침 1인분, 피문어 숙회 1인분, 쑥갓나물 1인분, 현미콩밥 1인분, ...  \n...                                                   ...  \n365746                                          차슈덮밥 1숟가락  \n365747  고사리나물 1젓가락, 도라지나물 1젓가락, 미역줄기볶음 3젓가락, 상추 5장, 현미...  \n365748  잡곡밥 1인분,    두부김치찜 3숟가락,    감자소세지조림 3숟가락,    동결...  \n365749  고사리나물 1젓가락, 미역줄기볶음 3젓가락, 상추 5장, 시금치나물 1젓가락, 현미...  \n365750                                   현미밥 1인분, 양배추쌈 8장  \n365751  현미밥 1인분, 잔멸치볶음 1젓가락, 콩나물무침 1젓가락, 상추 2장, 케일 2장,...  \n365752  오징어채볶음 1젓가락, 상추 2장, 잔멸치볶음 1젓가락, 케일 2장, 콩나물무침 1...  \n365753           현미밥 1인분, 가지볶음 1젓가락, 깻잎 1숟가락, 메추리알조림 1숟가락  \n365754  상추 2장, 오징어채볶음 1젓가락, 잔멸치볶음 1젓가락, 케일 2장, 콩나물무침 1...  \n365755                                            현미밥 1인분  \n365756                                배추김치 3젓가락, 돈까스 1젓가락  \n365757                          옥수수 2개. 까페라떼 아이스 1잔. 1숟가락  \n365758                     상추 7장, 냉이나물 1젓가락, 느타리버섯볶음 1젓가락  \n365759            현미밥 1인분, 두부김치조림 1인분, 김구이 3젓가락, 갓김치 2젓가락  \n365760                                현미쌀밥 1인분, 돈육감자탕 1대접  \n365761                                         오징어덮밥 7숟가락  \n365762                               플레인 요구르트 1개, 블랙커피 1개  \n365763  순두부 1장, 배추김치 1젓가락, 미역볶음 1인분, 쌀밥 1인분,     양파절임 ...  \n365764                 백프로현미빵3쪽 계란1개 소금 앙상추 오리엔탈소스조금 1숟가락  \n365765                                       쥬비스푸드6알 1숟가락  \n365766     버섯 1숟가락,      소고기스테이크 6숟가락,      돼지목살스테이크 8숟가락  \n365767              잡곡밥 1인분,  쌈 6숟가락,  나물 6숟가락,  깍두기 5숟가락  \n365768           생 파프리카 1장, 감자조림 2젓가락, 배추김치 1젓가락, 현미밥 1인분  \n365769            당근반개 1숟가락,  100%현미밥65g 1숟가락,  반숙계란 1숟가락  \n365770  고등어구이 1젓가락, 마늘쫑볶음 1젓가락, 상추쌈 5장, 현미밥 1인분,   미역무...  \n365771                   상추 6장, 현미콩밥 1공기,    버섯연두부전골 6숟가락  \n365772         감자볶음 2젓가락, 오이장아찌 2젓가락, 잔멸치볶음 1젓가락, 현미밥 1인분  \n365773         가지볶음 2젓가락, 잔멸치볶음 2젓가락, 현미밥 1인분, 강남콩조림 2젓가락  \n365774  가지볶음 2젓가락, 강남콩조림 2젓가락, 생깻잎 6장, 잔멸치볶음 2젓가락, 현미밥...  \n365775  가지볶음 2젓가락, 강남콩조림 2젓가락, 생깻잎 6장, 잔멸치볶음 2젓가락, 현미밥...  \n\n[365776 rows x 2 columns]\n"
     ]
    }
   ],
   "source": [
    "import tensorflow as tf\n",
    "import pandas as pd\n",
    "\n",
    "filename = './food_image_url_v2.csv'\n",
    "# csv_test = pd.read_csv(filename\n",
    "csv_test = pd.read_csv(filename, names=['url', 'labels'], header=None)\n",
    "\n",
    "print(csv_test)\n"
   ]
  },
  {
   "cell_type": "code",
   "execution_count": 10,
   "metadata": {
    "collapsed": true
   },
   "outputs": [
    {
     "name": "stdout",
     "output_type": "stream",
     "text": [
      "   0  1  2     3   4  5   6       7\n0  P  X  1  6030  07  A  01  368963\n1  P  X  1  6030  08  A  01  368964\n2  P  X  1  6030  09  A  01  368965\n3  P  A  1  1011  14  G  01  368967\n4  P  A  1  1014  01  G  05  368968\n5  P  A  1  1017  02  D  01  368969\n"
     ]
    }
   ],
   "source": [
    "import re\n",
    "import StringIO\n",
    "import pandas as pd\n",
    "\n",
    "txt = '''P-X1-6030-07-A01    368963\n",
    "P-X1-6030-08-A01    368964\n",
    "P-X1-6030-09-A01    368965\n",
    "P-A-1-1011-14-G-01  368967\n",
    "P-A-1-1014-01-G-05  368968\n",
    "P-A-1-1017-02-D-01  368969\n",
    "'''\n",
    "\n",
    "fileobj = StringIO.StringIO(txt)\n",
    "\n",
    "def df_from_file(fileobj):\n",
    "    '''\n",
    "    takes a file object, returns DataFrame with columns grouped by \n",
    "    contiguous runs of either letters or numbers (but not both together)\n",
    "    '''\n",
    "    # unfortunately, we must materialize the data before putting it in the DataFrame\n",
    "    gen_records = [re.findall(r'(\\d+|[A-Z]+)', line) for line in fileobj]\n",
    "    return pd.DataFrame.from_records(gen_records)\n",
    "\n",
    "df = df_from_file(fileobj)\n",
    "print(df)"
   ]
  },
  {
   "cell_type": "code",
   "execution_count": 4,
   "metadata": {
    "collapsed": true
   },
   "outputs": [],
   "source": []
  },
  {
   "cell_type": "code",
   "execution_count": null,
   "metadata": {
    "collapsed": true
   },
   "outputs": [],
   "source": []
  }
 ],
 "metadata": {
  "kernelspec": {
   "display_name": "Python 2",
   "language": "python",
   "name": "python2"
  },
  "language_info": {
   "codemirror_mode": {
    "name": "ipython",
    "version": 2
   },
   "file_extension": ".py",
   "mimetype": "text/x-python",
   "name": "python",
   "nbconvert_exporter": "python",
   "pygments_lexer": "ipython2",
   "version": "2.7.13"
  }
 },
 "nbformat": 4,
 "nbformat_minor": 1
}
